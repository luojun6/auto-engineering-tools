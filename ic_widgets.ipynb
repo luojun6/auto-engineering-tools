{
 "cells": [
  {
   "cell_type": "code",
   "execution_count": 1,
   "id": "32c961a5",
   "metadata": {},
   "outputs": [],
   "source": [
    "import ipywidgets as widgets\n",
    "from ipywidgets import interact\n",
    "from IPython.display import display\n",
    "\n",
    "from IcWidgets.IcButtons import UIButton, DisplayedStatus, logging_handler, DigtalSwitch\n",
    "import time"
   ]
  },
  {
   "cell_type": "code",
   "execution_count": null,
   "id": "54eb7ddd",
   "metadata": {},
   "outputs": [],
   "source": []
  },
  {
   "cell_type": "code",
   "execution_count": 2,
   "id": "7a46c527",
   "metadata": {},
   "outputs": [],
   "source": [
    "switch = DigtalSwitch()"
   ]
  },
  {
   "cell_type": "code",
   "execution_count": 3,
   "id": "b540a471",
   "metadata": {},
   "outputs": [
    {
     "data": {
      "application/vnd.jupyter.widget-view+json": {
       "model_id": "5ba2bbef7e7c44b9bd04731bc4d5ee79",
       "version_major": 2,
       "version_minor": 0
      },
      "text/plain": [
       "HBox(children=(UIButton(value='inactive', description='DigtalSwitch', style=ButtonStyle()), VBox(children=(Lab…"
      ]
     },
     "metadata": {},
     "output_type": "display_data"
    }
   ],
   "source": [
    "switch.displayed_switch"
   ]
  },
  {
   "cell_type": "code",
   "execution_count": null,
   "id": "b7a00f70",
   "metadata": {},
   "outputs": [],
   "source": []
  },
  {
   "cell_type": "code",
   "execution_count": 4,
   "id": "c50f8b75",
   "metadata": {},
   "outputs": [
    {
     "data": {
      "application/vnd.jupyter.widget-view+json": {
       "model_id": "b114ebd3b83b4d268834e5f9a6dc4f2f",
       "version_major": 2,
       "version_minor": 0
      },
      "text/plain": [
       "Output(layout=Layout(border='1px solid black', height='160px', width='100%'))"
      ]
     },
     "metadata": {},
     "output_type": "display_data"
    }
   ],
   "source": [
    "logging_handler.show_logs()"
   ]
  },
  {
   "cell_type": "code",
   "execution_count": null,
   "id": "be52642c",
   "metadata": {},
   "outputs": [],
   "source": [
    "logging_handler.clear_logs()"
   ]
  },
  {
   "cell_type": "code",
   "execution_count": null,
   "id": "9a71330e",
   "metadata": {},
   "outputs": [],
   "source": []
  }
 ],
 "metadata": {
  "kernelspec": {
   "display_name": "Python 3 (ipykernel)",
   "language": "python",
   "name": "python3"
  },
  "language_info": {
   "codemirror_mode": {
    "name": "ipython",
    "version": 3
   },
   "file_extension": ".py",
   "mimetype": "text/x-python",
   "name": "python",
   "nbconvert_exporter": "python",
   "pygments_lexer": "ipython3",
   "version": "3.9.7"
  }
 },
 "nbformat": 4,
 "nbformat_minor": 5
}
