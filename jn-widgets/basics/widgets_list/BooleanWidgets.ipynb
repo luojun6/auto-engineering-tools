{
 "cells": [
  {
   "cell_type": "code",
   "execution_count": 2,
   "id": "0f76677b",
   "metadata": {},
   "outputs": [],
   "source": [
    "import ipywidgets as widgets"
   ]
  },
  {
   "cell_type": "code",
   "execution_count": 3,
   "id": "c9161ed8",
   "metadata": {},
   "outputs": [],
   "source": [
    "button = widgets.ToggleButton(\n",
    "    value=False,\n",
    "    description='info',\n",
    "    disabled=False,\n",
    "    button_style='info', # 'success', 'info', 'warning', 'danger' or ''\n",
    "    tooltip='Description',\n",
    "    icon='check' # (FontAwesome names without the `fa-` prefix)\n",
    ")"
   ]
  },
  {
   "cell_type": "code",
   "execution_count": 4,
   "id": "ee5c3211",
   "metadata": {},
   "outputs": [
    {
     "data": {
      "application/vnd.jupyter.widget-view+json": {
       "model_id": "3633c81eab2f4f02993bbd4307654eb9",
       "version_major": 2,
       "version_minor": 0
      },
      "text/plain": [
       "ToggleButton(value=False, button_style='info', description='info', icon='check', tooltip='Description')"
      ]
     },
     "metadata": {},
     "output_type": "display_data"
    }
   ],
   "source": [
    "button"
   ]
  },
  {
   "cell_type": "code",
   "execution_count": 7,
   "id": "439b2099",
   "metadata": {},
   "outputs": [
    {
     "data": {
      "text/plain": [
       "True"
      ]
     },
     "execution_count": 7,
     "metadata": {},
     "output_type": "execute_result"
    }
   ],
   "source": [
    "button.value"
   ]
  },
  {
   "cell_type": "code",
   "execution_count": 8,
   "id": "b52e34d4",
   "metadata": {},
   "outputs": [],
   "source": [
    "# The 2 second\n",
    "button.value = False"
   ]
  },
  {
   "cell_type": "code",
   "execution_count": 9,
   "id": "3bda3442",
   "metadata": {},
   "outputs": [],
   "source": [
    "# The 3 second\n",
    "button.value = True"
   ]
  },
  {
   "cell_type": "code",
   "execution_count": null,
   "id": "ba60c111",
   "metadata": {},
   "outputs": [],
   "source": []
  },
  {
   "cell_type": "code",
   "execution_count": null,
   "id": "0b37086c",
   "metadata": {},
   "outputs": [],
   "source": []
  },
  {
   "cell_type": "code",
   "execution_count": null,
   "id": "ea004a00",
   "metadata": {},
   "outputs": [],
   "source": [
    "widgets.Checkbox(\n",
    "    value=False,\n",
    "    description='Check me',\n",
    "    disabled=False,\n",
    "    indent=False\n",
    ")"
   ]
  },
  {
   "cell_type": "code",
   "execution_count": null,
   "id": "d414ba11",
   "metadata": {},
   "outputs": [],
   "source": [
    "widgets.Valid(\n",
    "    value=False,\n",
    "    description='Valid!',\n",
    ")"
   ]
  },
  {
   "cell_type": "code",
   "execution_count": null,
   "id": "b2760e7d",
   "metadata": {},
   "outputs": [],
   "source": []
  }
 ],
 "metadata": {
  "kernelspec": {
   "display_name": "Python 3 (ipykernel)",
   "language": "python",
   "name": "python3"
  },
  "language_info": {
   "codemirror_mode": {
    "name": "ipython",
    "version": 3
   },
   "file_extension": ".py",
   "mimetype": "text/x-python",
   "name": "python",
   "nbconvert_exporter": "python",
   "pygments_lexer": "ipython3",
   "version": "3.9.7"
  }
 },
 "nbformat": 4,
 "nbformat_minor": 5
}
