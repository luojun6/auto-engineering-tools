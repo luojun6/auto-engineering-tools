{
 "cells": [
  {
   "cell_type": "code",
   "execution_count": 1,
   "id": "00584f1e",
   "metadata": {},
   "outputs": [
    {
     "ename": "ModuleNotFoundError",
     "evalue": "No module named 'IcWidgets'",
     "output_type": "error",
     "traceback": [
      "\u001b[0;31m---------------------------------------------------------------------------\u001b[0m",
      "\u001b[0;31mModuleNotFoundError\u001b[0m                       Traceback (most recent call last)",
      "\u001b[0;32m/tmp/ipykernel_1439684/2467189621.py\u001b[0m in \u001b[0;36m<module>\u001b[0;34m\u001b[0m\n\u001b[1;32m      3\u001b[0m \u001b[0;32mfrom\u001b[0m \u001b[0mIPython\u001b[0m\u001b[0;34m.\u001b[0m\u001b[0mdisplay\u001b[0m \u001b[0;32mimport\u001b[0m \u001b[0mdisplay\u001b[0m\u001b[0;34m\u001b[0m\u001b[0;34m\u001b[0m\u001b[0m\n\u001b[1;32m      4\u001b[0m \u001b[0;34m\u001b[0m\u001b[0m\n\u001b[0;32m----> 5\u001b[0;31m \u001b[0;32mfrom\u001b[0m \u001b[0mIcWidgets\u001b[0m\u001b[0;34m.\u001b[0m\u001b[0mIcButtons\u001b[0m \u001b[0;32mimport\u001b[0m \u001b[0mUIButton\u001b[0m\u001b[0;34m,\u001b[0m \u001b[0mDisplayedStatus\u001b[0m\u001b[0;34m,\u001b[0m \u001b[0mDigtalSwitch\u001b[0m\u001b[0;34m\u001b[0m\u001b[0;34m\u001b[0m\u001b[0m\n\u001b[0m\u001b[1;32m      6\u001b[0m \u001b[0;32mimport\u001b[0m \u001b[0mtime\u001b[0m\u001b[0;34m\u001b[0m\u001b[0;34m\u001b[0m\u001b[0m\n",
      "\u001b[0;31mModuleNotFoundError\u001b[0m: No module named 'IcWidgets'"
     ]
    }
   ],
   "source": [
    "import ipywidgets as widgets\n",
    "from ipywidgets import interact\n",
    "from IPython.display import display\n",
    "\n",
    "from IcWidgets.IcButtons import UIButton, DisplayedStatus, DigtalSwitch\n",
    "import time"
   ]
  },
  {
   "cell_type": "code",
   "execution_count": null,
   "id": "99768c0b",
   "metadata": {},
   "outputs": [],
   "source": []
  },
  {
   "cell_type": "code",
   "execution_count": null,
   "id": "2fe71675",
   "metadata": {},
   "outputs": [],
   "source": []
  },
  {
   "cell_type": "code",
   "execution_count": null,
   "id": "76ee4b36",
   "metadata": {},
   "outputs": [],
   "source": [
    "toggle_btn = UIButton()\n",
    "btn_sts = DisplayedStatus()"
   ]
  },
  {
   "cell_type": "code",
   "execution_count": null,
   "id": "3a9f44d0",
   "metadata": {},
   "outputs": [],
   "source": [
    "dl = widgets.dlink((toggle_btn, 'value'), (btn_sts, 'value'))"
   ]
  },
  {
   "cell_type": "code",
   "execution_count": null,
   "id": "f986a53b",
   "metadata": {},
   "outputs": [],
   "source": []
  },
  {
   "cell_type": "code",
   "execution_count": null,
   "id": "ff330f1c",
   "metadata": {},
   "outputs": [],
   "source": [
    "display(toggle_btn, btn_sts)"
   ]
  },
  {
   "cell_type": "code",
   "execution_count": null,
   "id": "6e28f7f6",
   "metadata": {},
   "outputs": [],
   "source": [
    "toggle_btn.value = \"active\""
   ]
  },
  {
   "cell_type": "code",
   "execution_count": null,
   "id": "8ab8deaa",
   "metadata": {},
   "outputs": [],
   "source": [
    "toggle_btn.value = \"inactive\""
   ]
  },
  {
   "cell_type": "code",
   "execution_count": null,
   "id": "00184b87",
   "metadata": {},
   "outputs": [],
   "source": []
  },
  {
   "cell_type": "code",
   "execution_count": null,
   "id": "d70be424",
   "metadata": {},
   "outputs": [],
   "source": [
    "def toggle_callback(btn):\n",
    "\n",
    "#     print(btn.value)\n",
    "    if btn.value == False:\n",
    "        btn.button_style = \"warning\"\n",
    "        time.sleep(2)\n",
    "    else:\n",
    "        btn.button_style = \"info\"\n",
    "        time.sleep(2)\n",
    "        \n",
    "toggle_btn.set_callback(toggle_callback)"
   ]
  },
  {
   "cell_type": "code",
   "execution_count": null,
   "id": "9f0c2338",
   "metadata": {},
   "outputs": [],
   "source": []
  },
  {
   "cell_type": "code",
   "execution_count": null,
   "id": "baee8c44",
   "metadata": {},
   "outputs": [],
   "source": []
  },
  {
   "cell_type": "code",
   "execution_count": null,
   "id": "dbe41e97",
   "metadata": {},
   "outputs": [],
   "source": [
    "description_open = 'Open'\n",
    "description_close = 'Close'\n",
    "\n",
    "button = widgets.Button(\n",
    "    value=False,\n",
    "    description=description_open,\n",
    "    disabled=False,\n",
    "    button_style='info', # 'success', 'info', 'warning', 'danger' or ''\n",
    ")\n",
    "output = widgets.Output()\n",
    "\n",
    "display(button, output)\n",
    "\n",
    "def on_button_clicked(b):\n",
    "    with output:\n",
    "        if b.description is description_open:\n",
    "            b.description = description_close\n",
    "            b.button_style = 'warning'\n",
    "        else:\n",
    "            b.description = description_open\n",
    "            b.button_style = 'info'\n",
    "\n",
    "button.on_click(on_button_clicked)"
   ]
  },
  {
   "cell_type": "code",
   "execution_count": null,
   "id": "61428c8d",
   "metadata": {},
   "outputs": [],
   "source": [
    "help(button)"
   ]
  },
  {
   "cell_type": "code",
   "execution_count": null,
   "id": "91a16341",
   "metadata": {},
   "outputs": [],
   "source": [
    "toggle = widgets.ToggleButton(\n",
    "    description='click me',\n",
    "    button_style='info'\n",
    ")\n",
    "\n",
    "def on_click(change):\n",
    "    print(\"State\", change)\n",
    "#     print(\"New value\", change['new'])\n",
    "\n",
    "toggle.observe(on_click, 'value')"
   ]
  },
  {
   "cell_type": "code",
   "execution_count": null,
   "id": "f931ac2c",
   "metadata": {},
   "outputs": [],
   "source": [
    "toggle"
   ]
  },
  {
   "cell_type": "code",
   "execution_count": null,
   "id": "b3c39120",
   "metadata": {},
   "outputs": [],
   "source": [
    "help(toggle)"
   ]
  },
  {
   "cell_type": "code",
   "execution_count": null,
   "id": "b29be2e5",
   "metadata": {},
   "outputs": [],
   "source": [
    "@interact\n",
    "def clicked(a=widgets.ToggleButton()):\n",
    "    print(a)"
   ]
  },
  {
   "cell_type": "code",
   "execution_count": null,
   "id": "8754a92d",
   "metadata": {},
   "outputs": [],
   "source": []
  },
  {
   "cell_type": "code",
   "execution_count": null,
   "id": "be0c50a3",
   "metadata": {},
   "outputs": [],
   "source": []
  },
  {
   "cell_type": "code",
   "execution_count": null,
   "id": "53566e5b",
   "metadata": {},
   "outputs": [],
   "source": []
  }
 ],
 "metadata": {
  "kernelspec": {
   "display_name": "Python 3 (ipykernel)",
   "language": "python",
   "name": "python3"
  },
  "language_info": {
   "codemirror_mode": {
    "name": "ipython",
    "version": 3
   },
   "file_extension": ".py",
   "mimetype": "text/x-python",
   "name": "python",
   "nbconvert_exporter": "python",
   "pygments_lexer": "ipython3",
   "version": "3.9.7"
  }
 },
 "nbformat": 4,
 "nbformat_minor": 5
}
