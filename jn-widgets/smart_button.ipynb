{
 "cells": [
  {
   "cell_type": "code",
   "execution_count": 1,
   "id": "00584f1e",
   "metadata": {},
   "outputs": [],
   "source": [
    "import ipywidgets as widgets\n",
    "from ipywidgets import interact\n",
    "from IPython.display import display\n",
    "\n",
    "from IcWidgets.IcButtons import UIButton, DisplayedStatus\n",
    "import time"
   ]
  },
  {
   "cell_type": "code",
   "execution_count": null,
   "id": "f33b3688",
   "metadata": {},
   "outputs": [],
   "source": []
  },
  {
   "cell_type": "code",
   "execution_count": null,
   "id": "0f580383",
   "metadata": {},
   "outputs": [],
   "source": []
  },
  {
   "cell_type": "code",
   "execution_count": 2,
   "id": "8ab7d854",
   "metadata": {},
   "outputs": [],
   "source": [
    "toggle_btn = UIButton()\n",
    "btn_sts = DisplayedStatus()"
   ]
  },
  {
   "cell_type": "code",
   "execution_count": 3,
   "id": "1f347237",
   "metadata": {},
   "outputs": [],
   "source": [
    "dl = widgets.dlink((toggle_btn, 'value'), (btn_sts, 'value'))"
   ]
  },
  {
   "cell_type": "code",
   "execution_count": null,
   "id": "8b222368",
   "metadata": {},
   "outputs": [],
   "source": []
  },
  {
   "cell_type": "code",
   "execution_count": 6,
   "id": "15b5e34f",
   "metadata": {},
   "outputs": [
    {
     "data": {
      "application/vnd.jupyter.widget-view+json": {
       "model_id": "14ebb42263e24f4f948e5a3a3ff47f5e",
       "version_major": 2,
       "version_minor": 0
      },
      "text/plain": [
       "UIButton(value='active', description='UIButton', style=ButtonStyle())"
      ]
     },
     "metadata": {},
     "output_type": "display_data"
    },
    {
     "data": {
      "application/vnd.jupyter.widget-view+json": {
       "model_id": "c889de5cb89041fb92ab56f9c5780e76",
       "version_major": 2,
       "version_minor": 0
      },
      "text/plain": [
       "DisplayedStatus(index=1, options=('inactive', 'active'), value='active')"
      ]
     },
     "metadata": {},
     "output_type": "display_data"
    },
    {
     "name": "stderr",
     "output_type": "stream",
     "text": [
      "2022-11-25 07:31:29,462 - ipywidgetsButton - DEBUG - UIButton on_click_callback executed with new value inactive.\n",
      "2022-11-25 07:31:30,253 - ipywidgetsButton - DEBUG - UIButton on_click_callback executed with new value active.\n",
      "2022-11-25 07:31:35,797 - ipywidgetsButton - DEBUG - UIButton on_click_callback executed with new value inactive.\n",
      "2022-11-25 07:31:36,427 - ipywidgetsButton - DEBUG - UIButton on_click_callback executed with new value active.\n",
      "2022-11-25 07:31:37,014 - ipywidgetsButton - DEBUG - UIButton on_click_callback executed with new value inactive.\n",
      "2022-11-25 07:31:37,342 - ipywidgetsButton - DEBUG - UIButton on_click_callback executed with new value active.\n",
      "2022-11-25 07:31:37,526 - ipywidgetsButton - DEBUG - UIButton on_click_callback executed with new value inactive.\n",
      "2022-11-25 07:31:37,775 - ipywidgetsButton - DEBUG - UIButton on_click_callback executed with new value active.\n",
      "2022-11-25 07:31:37,973 - ipywidgetsButton - DEBUG - UIButton on_click_callback executed with new value inactive.\n",
      "2022-11-25 07:31:38,359 - ipywidgetsButton - DEBUG - UIButton on_click_callback executed with new value active.\n",
      "2022-11-25 07:31:39,253 - ipywidgetsButton - DEBUG - UIButton on_click_callback executed with new value inactive.\n"
     ]
    }
   ],
   "source": [
    "display(toggle_btn, btn_sts)"
   ]
  },
  {
   "cell_type": "code",
   "execution_count": null,
   "id": "1a66b4dc",
   "metadata": {},
   "outputs": [],
   "source": [
    "toggle_btn.value"
   ]
  },
  {
   "cell_type": "code",
   "execution_count": null,
   "id": "61b1c2b7",
   "metadata": {},
   "outputs": [],
   "source": []
  },
  {
   "cell_type": "code",
   "execution_count": null,
   "id": "4c299404",
   "metadata": {},
   "outputs": [],
   "source": [
    "def toggle_callback(btn):\n",
    "\n",
    "#     print(btn.value)\n",
    "    if btn.value == False:\n",
    "        btn.button_style = \"warning\"\n",
    "        time.sleep(2)\n",
    "    else:\n",
    "        btn.button_style = \"info\"\n",
    "        time.sleep(2)\n",
    "        \n",
    "toggle_btn.set_callback(toggle_callback)"
   ]
  },
  {
   "cell_type": "code",
   "execution_count": null,
   "id": "6eb53d88",
   "metadata": {},
   "outputs": [],
   "source": []
  },
  {
   "cell_type": "code",
   "execution_count": null,
   "id": "0ab3c642",
   "metadata": {},
   "outputs": [],
   "source": []
  },
  {
   "cell_type": "code",
   "execution_count": null,
   "id": "dbe41e97",
   "metadata": {},
   "outputs": [],
   "source": [
    "description_open = 'Open'\n",
    "description_close = 'Close'\n",
    "\n",
    "button = widgets.Button(\n",
    "    value=False,\n",
    "    description=description_open,\n",
    "    disabled=False,\n",
    "    button_style='info', # 'success', 'info', 'warning', 'danger' or ''\n",
    ")\n",
    "output = widgets.Output()\n",
    "\n",
    "display(button, output)\n",
    "\n",
    "def on_button_clicked(b):\n",
    "    with output:\n",
    "        if b.description is description_open:\n",
    "            b.description = description_close\n",
    "            b.button_style = 'warning'\n",
    "        else:\n",
    "            b.description = description_open\n",
    "            b.button_style = 'info'\n",
    "\n",
    "button.on_click(on_button_clicked)"
   ]
  },
  {
   "cell_type": "code",
   "execution_count": null,
   "id": "61428c8d",
   "metadata": {},
   "outputs": [],
   "source": [
    "help(button)"
   ]
  },
  {
   "cell_type": "code",
   "execution_count": null,
   "id": "91a16341",
   "metadata": {},
   "outputs": [],
   "source": [
    "toggle = widgets.ToggleButton(\n",
    "    description='click me',\n",
    "    button_style='info'\n",
    ")\n",
    "\n",
    "def on_click(change):\n",
    "    print(\"State\", change)\n",
    "#     print(\"New value\", change['new'])\n",
    "\n",
    "toggle.observe(on_click, 'value')"
   ]
  },
  {
   "cell_type": "code",
   "execution_count": null,
   "id": "f931ac2c",
   "metadata": {},
   "outputs": [],
   "source": [
    "toggle"
   ]
  },
  {
   "cell_type": "code",
   "execution_count": null,
   "id": "b3c39120",
   "metadata": {},
   "outputs": [],
   "source": [
    "help(toggle)"
   ]
  },
  {
   "cell_type": "code",
   "execution_count": null,
   "id": "b29be2e5",
   "metadata": {},
   "outputs": [],
   "source": [
    "@interact\n",
    "def clicked(a=widgets.ToggleButton()):\n",
    "    print(a)"
   ]
  },
  {
   "cell_type": "code",
   "execution_count": null,
   "id": "8754a92d",
   "metadata": {},
   "outputs": [],
   "source": []
  },
  {
   "cell_type": "code",
   "execution_count": null,
   "id": "be0c50a3",
   "metadata": {},
   "outputs": [],
   "source": []
  },
  {
   "cell_type": "code",
   "execution_count": null,
   "id": "53566e5b",
   "metadata": {},
   "outputs": [],
   "source": []
  }
 ],
 "metadata": {
  "kernelspec": {
   "display_name": "Python 3 (ipykernel)",
   "language": "python",
   "name": "python3"
  },
  "language_info": {
   "codemirror_mode": {
    "name": "ipython",
    "version": 3
   },
   "file_extension": ".py",
   "mimetype": "text/x-python",
   "name": "python",
   "nbconvert_exporter": "python",
   "pygments_lexer": "ipython3",
   "version": "3.9.7"
  }
 },
 "nbformat": 4,
 "nbformat_minor": 5
}
